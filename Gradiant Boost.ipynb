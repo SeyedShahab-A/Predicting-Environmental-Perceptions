{
 "cells": [
  {
   "cell_type": "code",
   "execution_count": 1,
   "id": "5cf2bc89",
   "metadata": {},
   "outputs": [],
   "source": [
    "import pandas as pd\n",
    "from sklearn.model_selection import train_test_split, GridSearchCV\n",
    "import seaborn as sns\n",
    "import matplotlib.pyplot as plt\n",
    "from sklearn.preprocessing import OneHotEncoder\n",
    "from sklearn.tree import DecisionTreeClassifier\n",
    "from sklearn.ensemble import  GradientBoostingClassifier\n",
    "from sklearn.metrics import accuracy_score, classification_report, confusion_matrix"
   ]
  },
  {
   "cell_type": "code",
   "execution_count": 2,
   "id": "718b6ac2-d9c3-4671-9b34-0580436a1593",
   "metadata": {},
   "outputs": [],
   "source": [
    "import warnings\n",
    "warnings.filterwarnings(\"ignore\")"
   ]
  },
  {
   "cell_type": "code",
   "execution_count": 13,
   "id": "f6ea581a",
   "metadata": {},
   "outputs": [],
   "source": [
    "# Removing unwanted columns\n",
    "\n",
    "df = pd.read_csv(\"DataSetready.csv\")\n",
    "df_new = df\n",
    "df_new = df_new.loc[:, 'Continent':'Job']"
   ]
  },
  {
   "cell_type": "markdown",
   "id": "1c68093f",
   "metadata": {},
   "source": [
    "### encoding variables other than categoricals: education and human centerdness(target)\n",
    "converting Education to ordinal 1 to 5 and changing human centeredness score to ordinal 0 to 2"
   ]
  },
  {
   "cell_type": "code",
   "execution_count": 14,
   "id": "5468a0ba",
   "metadata": {},
   "outputs": [],
   "source": [
    "# Create a mapping of education levels to numerical values\n",
    "education_mapping = {\n",
    "    'Secondary school': 1,\n",
    "    'High school': 2,\n",
    "    'Primary school': 3,\n",
    "    'Undergraduate school': 4,\n",
    "    'Graduate school and higher': 5,\n",
    "}\n",
    "\n",
    "# Apply the mapping to create the ordinal column\n",
    "df_new['Education1'] = df_new['Education'].map(education_mapping)\n",
    "\n",
    "df_new = df_new.drop(columns=['Education'])\n",
    "column_to_move = df_new.pop('Education1')\n",
    "df_new.insert(7,\"Education1\", column_to_move)"
   ]
  },
  {
   "cell_type": "code",
   "execution_count": 5,
   "id": "015ad581",
   "metadata": {
    "scrolled": true
   },
   "outputs": [
    {
     "name": "stdout",
     "output_type": "stream",
     "text": [
      "<class 'pandas.core.frame.DataFrame'>\n",
      "RangeIndex: 640 entries, 0 to 639\n",
      "Data columns (total 8 columns):\n",
      " #   Column      Non-Null Count  Dtype \n",
      "---  ------      --------------  ----- \n",
      " 0   Continent   640 non-null    object\n",
      " 1   Gender      640 non-null    object\n",
      " 2   Pet         640 non-null    object\n",
      " 3   Age         640 non-null    int64 \n",
      " 4   Ethnicity   640 non-null    object\n",
      " 5   Martial     640 non-null    object\n",
      " 6   Job         640 non-null    object\n",
      " 7   Education1  640 non-null    int64 \n",
      "dtypes: int64(2), object(6)\n",
      "memory usage: 40.1+ KB\n"
     ]
    }
   ],
   "source": [
    "df_new.info()"
   ]
  },
  {
   "cell_type": "code",
   "execution_count": 15,
   "id": "0c9fccc4-0a40-4fcc-b4db-5acb47760531",
   "metadata": {},
   "outputs": [
    {
     "name": "stdout",
     "output_type": "stream",
     "text": [
      "<class 'pandas.core.frame.DataFrame'>\n",
      "RangeIndex: 640 entries, 0 to 639\n",
      "Data columns (total 8 columns):\n",
      " #   Column      Non-Null Count  Dtype \n",
      "---  ------      --------------  ----- \n",
      " 0   Continent   640 non-null    object\n",
      " 1   Gender      640 non-null    object\n",
      " 2   Pet         640 non-null    object\n",
      " 3   Age1        640 non-null    int64 \n",
      " 4   Ethnicity   640 non-null    object\n",
      " 5   Martial     640 non-null    object\n",
      " 6   Job         640 non-null    object\n",
      " 7   Education1  640 non-null    int64 \n",
      "dtypes: int64(2), object(6)\n",
      "memory usage: 40.1+ KB\n"
     ]
    }
   ],
   "source": [
    "num_intervals = 4\n",
    "\n",
    "# Automatically set age intervals based on the number of intervals\n",
    "df_new['Age1'] = pd.cut(df_new['Age'], bins=num_intervals, labels=False, include_lowest=True, right=False)\n",
    "\n",
    "# Insert 'Age_Category' next to 'Age' column\n",
    "\n",
    "column_to_move2 = df_new.pop('Age1')\n",
    "df_new.insert(df_new.columns.get_loc('Age') + 1,\"Age1\", column_to_move2)\n",
    "# Display the modified DataFrame\n",
    "df_new = df_new.drop(columns=['Age'])\n",
    "df_new.info()"
   ]
  },
  {
   "cell_type": "markdown",
   "id": "ed1b1811",
   "metadata": {},
   "source": [
    "Following Cell converts human cetredness score to 0 1, and 2 (target variable)"
   ]
  },
  {
   "cell_type": "code",
   "execution_count": 16,
   "id": "c460e1bf",
   "metadata": {
    "ExecuteTime": {
     "end_time": "2023-12-05T11:25:21.049415Z",
     "start_time": "2023-12-05T11:25:19.716779Z"
    }
   },
   "outputs": [],
   "source": [
    "# Create a categorical variable based on equal intervals\n",
    "df_new['HCC'] = pd.cut(\n",
    "    df['Human_Centeredness_Score'],\n",
    "    bins=2,\n",
    "    labels=[0, 1],\n",
    "    right=False\n",
    ")"
   ]
  },
  {
   "cell_type": "code",
   "execution_count": 17,
   "id": "7cb14513",
   "metadata": {},
   "outputs": [
    {
     "name": "stdout",
     "output_type": "stream",
     "text": [
      "<class 'pandas.core.frame.DataFrame'>\n",
      "RangeIndex: 640 entries, 0 to 639\n",
      "Data columns (total 9 columns):\n",
      " #   Column      Non-Null Count  Dtype   \n",
      "---  ------      --------------  -----   \n",
      " 0   Continent   640 non-null    object  \n",
      " 1   Gender      640 non-null    object  \n",
      " 2   Pet         640 non-null    object  \n",
      " 3   Age1        640 non-null    int64   \n",
      " 4   Ethnicity   640 non-null    object  \n",
      " 5   Martial     640 non-null    object  \n",
      " 6   Job         640 non-null    object  \n",
      " 7   Education1  640 non-null    int64   \n",
      " 8   HCC         640 non-null    category\n",
      "dtypes: category(1), int64(2), object(6)\n",
      "memory usage: 40.9+ KB\n"
     ]
    }
   ],
   "source": [
    "df_new.info()"
   ]
  },
  {
   "cell_type": "code",
   "execution_count": 43,
   "id": "66d92e17",
   "metadata": {},
   "outputs": [],
   "source": [
    "df_new.to_csv(\"df_new.csv\")"
   ]
  },
  {
   "cell_type": "markdown",
   "id": "ccdfbe9b",
   "metadata": {},
   "source": [
    "### Defining Features and target values"
   ]
  },
  {
   "cell_type": "code",
   "execution_count": 17,
   "id": "1b63563f",
   "metadata": {},
   "outputs": [],
   "source": [
    "# Define features (X) and target variable (y)\n",
    "features = [\"Age1\",\"Continent\", \"Education1\", \"Pet\",\"Ethnicity\", \"Martial\", \"Job\", \"Gender\"]\n",
    "#X = df_new.loc[:, 'Continent':'Education1'] \n",
    "X = df_new[features]\n",
    "y = df_new['HCC']"
   ]
  },
  {
   "cell_type": "code",
   "execution_count": 222,
   "id": "eede026c",
   "metadata": {},
   "outputs": [
    {
     "name": "stdout",
     "output_type": "stream",
     "text": [
      "<class 'pandas.core.frame.DataFrame'>\n",
      "RangeIndex: 640 entries, 0 to 639\n",
      "Data columns (total 8 columns):\n",
      " #   Column      Non-Null Count  Dtype \n",
      "---  ------      --------------  ----- \n",
      " 0   Age1        640 non-null    int64 \n",
      " 1   Continent   640 non-null    object\n",
      " 2   Education1  640 non-null    int64 \n",
      " 3   Pet         640 non-null    object\n",
      " 4   Ethnicity   640 non-null    object\n",
      " 5   Martial     640 non-null    object\n",
      " 6   Job         640 non-null    object\n",
      " 7   Gender      640 non-null    object\n",
      "dtypes: int64(2), object(6)\n",
      "memory usage: 40.1+ KB\n"
     ]
    }
   ],
   "source": [
    "X.info()"
   ]
  },
  {
   "cell_type": "markdown",
   "id": "c8820c88",
   "metadata": {},
   "source": [
    "### encoding categorical features by onehot encoding"
   ]
  },
  {
   "cell_type": "code",
   "execution_count": 18,
   "id": "2648d940",
   "metadata": {},
   "outputs": [],
   "source": [
    "# Define numerical and categorical columns\n",
    "numerical_cols = ['Age1', 'Education1']\n",
    "categorical_cols = X.columns.difference(numerical_cols).tolist()\n",
    "\n",
    "# Create a new DataFrame without numerical columns\n",
    "X_categorical = X.drop(columns=numerical_cols)\n",
    "\n",
    "\n",
    "encoder = OneHotEncoder(sparse=False)\n",
    "\n",
    "# Fit and transform the categorical DataFrame\n",
    "X_categorical_encoded = encoder.fit_transform(X_categorical)\n",
    "\n",
    "# Get the feature names after encoding\n",
    "feature_names_categorical = encoder.get_feature_names_out(X_categorical.columns)\n",
    "\n",
    "X_categorical_encoded_df = pd.DataFrame(X_categorical_encoded, columns=feature_names_categorical)\n",
    "\n",
    "X_encoded = pd.concat([X[numerical_cols], X_categorical_encoded_df], axis=1)"
   ]
  },
  {
   "cell_type": "code",
   "execution_count": 224,
   "id": "73b9eed0",
   "metadata": {},
   "outputs": [],
   "source": [
    "X_encoded.to_csv('hotencoded.csv')"
   ]
  },
  {
   "cell_type": "markdown",
   "id": "0224bcbb",
   "metadata": {},
   "source": [
    "### Splitting The dataset to 70 percent train 15 percent test and 15 percent evaluation"
   ]
  },
  {
   "cell_type": "code",
   "execution_count": 19,
   "id": "f7d69c9c",
   "metadata": {},
   "outputs": [],
   "source": [
    "# Split the dataset into training (70%) and temporary (30%)\n",
    "X_train, X_test_eval, y_train, y_test_eval = train_test_split(X_encoded, y, test_size=0.3, random_state=42)\n",
    "\n",
    "# split the test_eval set into eval (15%) and final test (15%)\n",
    "X_test, X_eval, y_test, y_eval = train_test_split(X_test_eval, y_test_eval, test_size=0.5, random_state=42)\n",
    "\n",
    "# joining the 15% eval and 70 % train to perform cross-validate\n",
    "\n",
    "X_trainval = pd.concat([X_train, X_eval], axis=0)\n",
    "\n",
    "y_trainval = pd.concat([y_train, y_eval], axis=0)"
   ]
  },
  {
   "cell_type": "code",
   "execution_count": 11,
   "id": "26639cb3",
   "metadata": {},
   "outputs": [
    {
     "name": "stdout",
     "output_type": "stream",
     "text": [
      "(544,)\n",
      "(544, 33)\n",
      "(96, 33)\n"
     ]
    }
   ],
   "source": [
    "print(y_trainval.shape)\n",
    "print(X_trainval.shape)\n",
    "print(X_test.shape)"
   ]
  },
  {
   "cell_type": "markdown",
   "id": "cbbd1e8a",
   "metadata": {},
   "source": [
    "### Decision tree model"
   ]
  },
  {
   "cell_type": "code",
   "execution_count": 20,
   "id": "d0e494e6",
   "metadata": {},
   "outputs": [
    {
     "name": "stdout",
     "output_type": "stream",
     "text": [
      "Training set score: 0.902\n",
      "Test set score: 0.552\n"
     ]
    }
   ],
   "source": [
    "tree = DecisionTreeClassifier(random_state = 42)\n",
    "tree.fit(X_train, y_train)\n",
    "print(\"Training set score: {:.3f}\".format(tree.score(X_train, y_train)))\n",
    "print(\"Test set score: {:.3f}\".format(tree.score(X_eval, y_eval)))"
   ]
  },
  {
   "cell_type": "markdown",
   "id": "4349e323",
   "metadata": {},
   "source": [
    "### Feature importance "
   ]
  },
  {
   "cell_type": "code",
   "execution_count": 44,
   "id": "e0b2b8c8",
   "metadata": {},
   "outputs": [
    {
     "data": {
      "image/png": "[encoded data removed]",
      "text/plain": [
       "<Figure size 1000x600 with 1 Axes>"
      ]
     },
     "metadata": {},
     "output_type": "display_data"
    }
   ],
   "source": [
    "# Create the feature importances series\n",
    "feat_importances = pd.Series(tree.feature_importances_, index=X_encoded.columns)\n",
    "\n",
    "# Select the top 10 features with the largest importance\n",
    "top_features = feat_importances.nlargest(10)\n",
    "\n",
    "# Sort the values in ascending order for better visualization\n",
    "top_features = top_features.sort_values(ascending=True)\n",
    "\n",
    "# Plot the horizontal bar chart\n",
    "plt.figure(figsize=(10, 6))\n",
    "top_features.plot(kind='barh', color='skyblue', edgecolor='black')\n",
    "\n",
    "# Set chart title and labels\n",
    "plt.title('Top 10 Feature Importances')\n",
    "plt.xlabel('Importance')\n",
    "plt.ylabel('Features')\n",
    "\n",
    "plt.grid(False)"
   ]
  },
  {
   "cell_type": "code",
   "execution_count": 171,
   "id": "b6f7807e",
   "metadata": {},
   "outputs": [
    {
     "data": {
      "text/plain": [
       "array([0.17788545, 0.08179134, 0.0418759 , 0.01099201, 0.03762824,\n",
       "       0.06252853, 0.05093638, 0.03314671, 0.02046016, 0.02877134,\n",
       "       0.00363081, 0.00574174, 0.        , 0.03974593, 0.05754687,\n",
       "       0.06146169, 0.00724556, 0.03216272, 0.        , 0.05888035,\n",
       "       0.04023773, 0.0085595 , 0.03031005, 0.03025335, 0.        ,\n",
       "       0.0552215 , 0.02298613])"
      ]
     },
     "execution_count": 171,
     "metadata": {},
     "output_type": "execute_result"
    }
   ],
   "source": [
    "importances = tree.feature_importances_\n",
    "importances"
   ]
  },
  {
   "cell_type": "markdown",
   "id": "fa73dfcf",
   "metadata": {},
   "source": [
    "### Gradiant Boost Model and evaluation"
   ]
  },
  {
   "cell_type": "code",
   "execution_count": 74,
   "id": "7b7da922",
   "metadata": {
    "scrolled": true
   },
   "outputs": [
    {
     "name": "stdout",
     "output_type": "stream",
     "text": [
      "Training set score: 0.697\n",
      "Test set score: 0.688\n"
     ]
    }
   ],
   "source": [
    "grbt_model = GradientBoostingClassifier(n_estimators=74, max_depth=3, learning_rate=0.01, random_state=42)\n",
    "grbt_model.fit(X_trainval, y_trainval)\n",
    "print(\"Training set score: {:.3f}\".format(grbt_model.score(X_trainval, y_trainval)))\n",
    "print(\"Test set score: {:.3f}\".format(grbt_model.score(X_test, y_test)))"
   ]
  },
  {
   "cell_type": "code",
   "execution_count": 45,
   "id": "e8e65ca2",
   "metadata": {},
   "outputs": [
    {
     "data": {
      "text/plain": [
       "0.7572731220147633"
      ]
     },
     "execution_count": 45,
     "metadata": {},
     "output_type": "execute_result"
    }
   ],
   "source": [
    "from sklearn.metrics import roc_auc_score\n",
    "grbt_model_auc = roc_auc_score(y_test, grbt_model.predict_proba(X_test)[:, 1])\n",
    "grbt_model_auc"
   ]
  },
  {
   "cell_type": "code",
   "execution_count": 75,
   "id": "f7f9341b",
   "metadata": {},
   "outputs": [
    {
     "data": {
      "image/png": "[encoded data removed]",
      "text/plain": [
       "<Figure size 600x400 with 1 Axes>"
      ]
     },
     "metadata": {},
     "output_type": "display_data"
    },
    {
     "name": "stdout",
     "output_type": "stream",
     "text": [
      "Classification Report:\n",
      "               precision    recall  f1-score   support\n",
      "\n",
      "           0       0.68      0.73      0.71        49\n",
      "           1       0.70      0.64      0.67        47\n",
      "\n",
      "    accuracy                           0.69        96\n",
      "   macro avg       0.69      0.69      0.69        96\n",
      "weighted avg       0.69      0.69      0.69        96\n"
     ]
    }
   ],
   "source": [
    "# Predictions on the test set\n",
    "y_pred = grbt_model.predict(X_test)\n",
    "\n",
    "# Confusion matrix\n",
    "conf_matrix = confusion_matrix(y_test, y_pred)\n",
    "\n",
    "# Plotting the confusion matrix\n",
    "plt.figure(figsize=(6, 4))\n",
    "sns.heatmap(conf_matrix, annot=True, fmt='d', cmap='Blues', cbar=False,\n",
    "            xticklabels=grbt_model.classes_, yticklabels=grbt_model.classes_)\n",
    "plt.title('Confusion Matrix')\n",
    "plt.xlabel('Predicted')\n",
    "plt.ylabel('Actual')\n",
    "plt.show()\n",
    "\n",
    "# Classification Report\n",
    "class_report = classification_report(y_test, y_pred)\n",
    "print(\"Classification Report:\\n\", class_report)"
   ]
  },
  {
   "cell_type": "code",
   "execution_count": 48,
   "id": "f1178ee0",
   "metadata": {},
   "outputs": [
    {
     "name": "stdout",
     "output_type": "stream",
     "text": [
      "[[36 13]\n",
      " [17 30]]\n"
     ]
    }
   ],
   "source": [
    "print(conf_matrix)"
   ]
  },
  {
   "cell_type": "markdown",
   "id": "904b2ff4",
   "metadata": {},
   "source": [
    "### Grid Search and Cross Validation"
   ]
  },
  {
   "cell_type": "code",
   "execution_count": 61,
   "id": "b9f7f230",
   "metadata": {},
   "outputs": [],
   "source": [
    "grbt_classifier = GradientBoostingClassifier(random_state= 42)\n",
    "\n",
    "# Define the parameter grid to search\n",
    "param_grid = {\n",
    "    'n_estimators': list(range(71, 78, 1)),\n",
    "    'max_depth': list(range(1, 5, 1)),\n",
    "    'learning_rate': [0.01]\n",
    "}\n",
    "\n",
    "grid_search = GridSearchCV(estimator=grbt_classifier, param_grid=param_grid, cv=5, scoring='accuracy')\n",
    "grid_search.fit(X_trainval, y_trainval)\n",
    "\n",
    "best_params = grid_search.best_params_\n",
    "best_estimator = grid_search.best_estimator_"
   ]
  },
  {
   "cell_type": "code",
   "execution_count": 73,
   "id": "e065ebe0",
   "metadata": {},
   "outputs": [
    {
     "name": "stdout",
     "output_type": "stream",
     "text": [
      "Best parameters: {'learning_rate': 0.01, 'max_depth': 2, 'n_estimators': 74}\n",
      "Best cross-validation score: 0.684\n"
     ]
    }
   ],
   "source": [
    "print(\"Best parameters: {}\".format(grid_search.best_params_))\n",
    "print(\"Best cross-validation score: {:.3f}\".format(grid_search.best_score_))"
   ]
  },
  {
   "cell_type": "markdown",
   "id": "990e7b42-eaa8-45e2-b57d-b0601411f60c",
   "metadata": {},
   "source": [
    "### Creating Heatmap for the parameters"
   ]
  },
  {
   "cell_type": "code",
   "execution_count": 63,
   "id": "ea1157e8",
   "metadata": {
    "scrolled": true
   },
   "outputs": [
    {
     "data": {
      "image/png": "[encoded data removed]",
      "text/plain": [
       "<Figure size 600x300 with 2 Axes>"
      ]
     },
     "metadata": {},
     "output_type": "display_data"
    }
   ],
   "source": [
    "# Extract the results of the grid search\n",
    "results = pd.DataFrame(grid_search.cv_results_)\n",
    "\n",
    "# Create a pivot table\n",
    "pivot_table = results.pivot_table(index='param_max_depth', columns='param_n_estimators', values='mean_test_score')\n",
    "\n",
    "plt.figure(figsize=(6, 3))\n",
    "heatmap = sns.heatmap(pivot_table, annot=False, fmt=\".3f\", cmap=\"viridis\", cbar_kws={'label': 'Mean Test Score'})\n",
    "heatmap.set_title('Grid Search Mean Test Scores', fontsize =14 )\n",
    "heatmap.set_xlabel('n_estimators')\n",
    "heatmap.set_ylabel('max_depth')"
   ]
  },
  {
   "cell_type": "markdown",
   "id": "1293c721-b920-403c-9275-2abf496d06f1",
   "metadata": {},
   "source": [
    "### Performance on test set"
   ]
  },
  {
   "cell_type": "code",
   "execution_count": 79,
   "id": "75b8b5d0",
   "metadata": {},
   "outputs": [
    {
     "data": {
      "text/plain": [
       "0.6145833333333334"
      ]
     },
     "execution_count": 79,
     "metadata": {},
     "output_type": "execute_result"
    }
   ],
   "source": [
    "grbt_classifier.score(X_test, y_test)"
   ]
  }
 ],
 "metadata": {
  "kernelspec": {
   "display_name": "Python 3 (ipykernel)",
   "language": "python",
   "name": "python3"
  },
  "language_info": {
   "codemirror_mode": {
    "name": "ipython",
    "version": 3
   },
   "file_extension": ".py",
   "mimetype": "text/x-python",
   "name": "python",
   "nbconvert_exporter": "python",
   "pygments_lexer": "ipython3",
   "version": "3.11.6"
  },
  "toc": {
   "base_numbering": 1,
   "nav_menu": {},
   "number_sections": true,
   "sideBar": true,
   "skip_h1_title": false,
   "title_cell": "Table of Contents",
   "title_sidebar": "Contents",
   "toc_cell": false,
   "toc_position": {},
   "toc_section_display": true,
   "toc_window_display": false
  }
 },
 "nbformat": 4,
 "nbformat_minor": 5
}
